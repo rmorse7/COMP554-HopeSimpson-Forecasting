{
 "cells": [
  {
   "cell_type": "code",
   "execution_count": 1,
   "id": "775cd9ac",
   "metadata": {},
   "outputs": [],
   "source": [
    "import pandas as pd\n",
    "import numpy as np"
   ]
  },
  {
   "cell_type": "code",
   "execution_count": 10,
   "id": "9b31148a",
   "metadata": {},
   "outputs": [
    {
     "name": "stdout",
     "output_type": "stream",
     "text": [
      "Zapata\n",
      "Number of unique locations measured 256\n",
      "Number of unique days measured 800\n"
     ]
    }
   ],
   "source": [
    "texas = pd.read_csv(\"time_series_covid19_confirmed_Texas_counties_transformed.csv\")\n",
    "tests = pd.read_csv(\"Texas/time_series_covid19_tests_Texas_counties_transformation.csv\")\n",
    "vacs = pd.read_excel(\"Texas/TX_county_vac_data.xlsx\")\n",
    "alldata = texas\n",
    "\n",
    "#convert date to datetime and extract unique dates\n",
    "alldata['Date'] = pd.to_datetime(alldata['Date'])\n",
    "dates = sorted(alldata['Date'].unique())\n",
    "ud = len(dates)\n",
    "\n",
    "#get unique locations that we care about\n",
    "alldata['Place'] = alldata['Province_State']\n",
    "places = list(alldata['Place'].unique())\n",
    "print(places[254])\n",
    "\n",
    "print('Number of unique locations measured', len(places))\n",
    "print('Number of unique days measured', ud)\n",
    "pd.DataFrame(data={'Date': dates}).to_csv('Texas/Dates.csv')"
   ]
  },
  {
   "cell_type": "code",
   "execution_count": 11,
   "id": "01e8a97a",
   "metadata": {},
   "outputs": [],
   "source": [
    "# latrange = [35,40]\n",
    "# latdata = alldata.loc[(alldata['Lat'] > latrange[0]) & (alldata['Lat'] < latrange[1])]\n",
    "locdata = {}\n",
    "loccords = {}\n",
    "\n",
    "\n",
    "for place in places:\n",
    "    pdict = alldata[alldata['Place'] == place]\n",
    "    locd = np.zeros(ud)\n",
    "#     loccords[place] = [pdict['Lat'].iloc[0], pdict['Long'].iloc[0]]\n",
    "    for i, day in enumerate(dates):\n",
    "        locd[i] = pdict['Confirmed Cases'][pdict['Date'] == day]\n",
    "#         locd[i] = pdict['Number of Tests'][pdict['Date'] == day]\n",
    "    locdata[place] = locd\n",
    "    \n",
    "# pd.DataFrame(data=loccords).to_csv('TexasCords.csv')\n",
    "pd.DataFrame(data=locdata).to_csv('Texas/TexasData.csv')"
   ]
  },
  {
   "cell_type": "code",
   "execution_count": null,
   "id": "2927d0a2",
   "metadata": {},
   "outputs": [],
   "source": []
  }
 ],
 "metadata": {
  "kernelspec": {
   "display_name": "Python 3 (ipykernel)",
   "language": "python",
   "name": "python3"
  },
  "language_info": {
   "codemirror_mode": {
    "name": "ipython",
    "version": 3
   },
   "file_extension": ".py",
   "mimetype": "text/x-python",
   "name": "python",
   "nbconvert_exporter": "python",
   "pygments_lexer": "ipython3",
   "version": "3.8.3"
  }
 },
 "nbformat": 4,
 "nbformat_minor": 5
}
