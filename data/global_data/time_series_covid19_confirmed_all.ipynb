{
 "cells": [
  {
   "cell_type": "markdown",
   "metadata": {},
   "source": [
    "# Dataset - All\n",
    "\n",
    "Merge datasets \"global\", \"US\", and \"Brazil\"."
   ]
  },
  {
   "cell_type": "code",
   "execution_count": 1,
   "metadata": {},
   "outputs": [],
   "source": [
    "import pandas as pd"
   ]
  },
  {
   "cell_type": "markdown",
   "metadata": {},
   "source": [
    "## Initialize"
   ]
  },
  {
   "cell_type": "code",
   "execution_count": 2,
   "metadata": {
    "scrolled": true
   },
   "outputs": [],
   "source": [
    "srcGlobal = \"./time_series_covid19_confirmed_global_transformed.csv\"\n",
    "srcUS = \"./time_series_covid19_confirmed_US_transformed.csv\"\n",
    "# srcBrazil = \"../vinicius_da_silva/output_brazil.csv\"\n",
    "# srcArgentina = \"../vinicius_da_silva/output_argentina.csv\"\n",
    "dest = \"./time_series_covid19_confirmed_all.csv\"\n",
    "\n",
    "# Read data\n",
    "globalDf = pd.read_csv(srcGlobal)\n",
    "usDf = pd.read_csv(srcUS)\n",
    "# brazilDf = pd.read_csv(srcBrazil)\n",
    "# argentinaDf = pd.read_csv(srcArgentina)"
   ]
  },
  {
   "cell_type": "markdown",
   "metadata": {},
   "source": [
    "## Data Manipulation"
   ]
  },
  {
   "cell_type": "code",
   "execution_count": 9,
   "metadata": {},
   "outputs": [],
   "source": [
    "# # Drop Brazil from brazilDf (we've subsampled Brazil to regions)\n",
    "# brazilDf = brazilDf[brazilDf.Province_State != \"Brazil\"]\n",
    "\n",
    "# # Drop Brazil and Argentina data from globalDf\n",
    "# globalDf = globalDf[globalDf.Country_Region != \"Brazil\"]\n",
    "# globalDf = globalDf[globalDf.Country_Region != \"Argentina\"]\n",
    "\n",
    "# Drop US data from globalDf\n",
    "globalDf = globalDf[globalDf.Country_Region != \"US\"]\n",
    "\n",
    "# Merge datasets\n",
    "finalDf = pd.concat([globalDf, usDf], axis = 0).reset_index(drop = True)\n",
    "# finalDf = pd.concat([finalDf, brazilDf], axis = 0)\n",
    "# finalDf = pd.concat([finalDf, argentinaDf], axis = 0).reset_index(drop = True)\n",
    "\n",
    "# Convert NaN to 0\n",
    "finalDf[\"Confirmed Cases\"] = finalDf[\"Confirmed Cases\"].mask(pd.isnull, 0)\n",
    "\n",
    "# Convert negative numbers to 0\n",
    "finalDf[\"Confirmed Cases\"] = finalDf[\"Confirmed Cases\"].mask(finalDf[\"Confirmed Cases\"] < 0, 0)\n",
    "\n",
    "# Drop (Lat, Long) == (0, 0) or (NaN, NaN)\n",
    "#   - This action involves the following regions:\n",
    "#       - (0, 0)    : 'Diamond Princess', 'Grand Princess', 'MS Zaandam'\n",
    "#       - (NaN, NaN): 'Repatriated Travellers'\n",
    "# ```\n",
    "# droppedDf = finalDf[((finalDf.Lat == 0) & (finalDf.Long == 0)) | ((finalDf.Lat.isnull()) & (finalDf.Long.isnull()))]\n",
    "# droppedDf[\"Province_State\"].unique()\n",
    "# ```\n",
    "finalDf.drop(finalDf[((finalDf.Lat == 0) & (finalDf.Long == 0)) | ((finalDf.Lat.isnull()) & (finalDf.Long.isnull()))].index, inplace = True)\n"
   ]
  },
  {
   "cell_type": "code",
   "execution_count": 10,
   "metadata": {
    "scrolled": false
   },
   "outputs": [
    {
     "data": {
      "text/html": [
       "<div>\n",
       "<style scoped>\n",
       "    .dataframe tbody tr th:only-of-type {\n",
       "        vertical-align: middle;\n",
       "    }\n",
       "\n",
       "    .dataframe tbody tr th {\n",
       "        vertical-align: top;\n",
       "    }\n",
       "\n",
       "    .dataframe thead th {\n",
       "        text-align: right;\n",
       "    }\n",
       "</style>\n",
       "<table border=\"1\" class=\"dataframe\">\n",
       "  <thead>\n",
       "    <tr style=\"text-align: right;\">\n",
       "      <th></th>\n",
       "      <th>Province_State</th>\n",
       "      <th>Country_Region</th>\n",
       "      <th>Lat</th>\n",
       "      <th>Long</th>\n",
       "      <th>Date</th>\n",
       "      <th>Confirmed Cases</th>\n",
       "    </tr>\n",
       "  </thead>\n",
       "  <tbody>\n",
       "    <tr>\n",
       "      <th>0</th>\n",
       "      <td>Afghanistan</td>\n",
       "      <td>Afghanistan</td>\n",
       "      <td>33.939110</td>\n",
       "      <td>67.709953</td>\n",
       "      <td>1/22/20</td>\n",
       "      <td>0.0</td>\n",
       "    </tr>\n",
       "    <tr>\n",
       "      <th>1</th>\n",
       "      <td>Albania</td>\n",
       "      <td>Albania</td>\n",
       "      <td>41.153300</td>\n",
       "      <td>20.168300</td>\n",
       "      <td>1/22/20</td>\n",
       "      <td>0.0</td>\n",
       "    </tr>\n",
       "    <tr>\n",
       "      <th>2</th>\n",
       "      <td>Algeria</td>\n",
       "      <td>Algeria</td>\n",
       "      <td>28.033900</td>\n",
       "      <td>1.659600</td>\n",
       "      <td>1/22/20</td>\n",
       "      <td>0.0</td>\n",
       "    </tr>\n",
       "    <tr>\n",
       "      <th>3</th>\n",
       "      <td>Andorra</td>\n",
       "      <td>Andorra</td>\n",
       "      <td>42.506300</td>\n",
       "      <td>1.521800</td>\n",
       "      <td>1/22/20</td>\n",
       "      <td>0.0</td>\n",
       "    </tr>\n",
       "    <tr>\n",
       "      <th>4</th>\n",
       "      <td>Angola</td>\n",
       "      <td>Angola</td>\n",
       "      <td>-11.202700</td>\n",
       "      <td>17.873900</td>\n",
       "      <td>1/22/20</td>\n",
       "      <td>0.0</td>\n",
       "    </tr>\n",
       "    <tr>\n",
       "      <th>...</th>\n",
       "      <td>...</td>\n",
       "      <td>...</td>\n",
       "      <td>...</td>\n",
       "      <td>...</td>\n",
       "      <td>...</td>\n",
       "      <td>...</td>\n",
       "    </tr>\n",
       "    <tr>\n",
       "      <th>32788</th>\n",
       "      <td>Virginia</td>\n",
       "      <td>US</td>\n",
       "      <td>37.926868</td>\n",
       "      <td>-78.024902</td>\n",
       "      <td>10/25/21</td>\n",
       "      <td>3945.0</td>\n",
       "    </tr>\n",
       "    <tr>\n",
       "      <th>32789</th>\n",
       "      <td>Washington</td>\n",
       "      <td>US</td>\n",
       "      <td>47.751076</td>\n",
       "      <td>-120.740135</td>\n",
       "      <td>10/25/21</td>\n",
       "      <td>5804.0</td>\n",
       "    </tr>\n",
       "    <tr>\n",
       "      <th>32790</th>\n",
       "      <td>West Virginia</td>\n",
       "      <td>US</td>\n",
       "      <td>39.000000</td>\n",
       "      <td>-80.500000</td>\n",
       "      <td>10/25/21</td>\n",
       "      <td>877.0</td>\n",
       "    </tr>\n",
       "    <tr>\n",
       "      <th>32791</th>\n",
       "      <td>Wisconsin</td>\n",
       "      <td>US</td>\n",
       "      <td>44.500000</td>\n",
       "      <td>-89.500000</td>\n",
       "      <td>10/25/21</td>\n",
       "      <td>4513.0</td>\n",
       "    </tr>\n",
       "    <tr>\n",
       "      <th>32792</th>\n",
       "      <td>Wyoming</td>\n",
       "      <td>US</td>\n",
       "      <td>43.075970</td>\n",
       "      <td>-107.290283</td>\n",
       "      <td>10/25/21</td>\n",
       "      <td>909.0</td>\n",
       "    </tr>\n",
       "  </tbody>\n",
       "</table>\n",
       "<p>206982 rows × 6 columns</p>\n",
       "</div>"
      ],
      "text/plain": [
       "      Province_State Country_Region        Lat        Long      Date  \\\n",
       "0        Afghanistan    Afghanistan  33.939110   67.709953   1/22/20   \n",
       "1            Albania        Albania  41.153300   20.168300   1/22/20   \n",
       "2            Algeria        Algeria  28.033900    1.659600   1/22/20   \n",
       "3            Andorra        Andorra  42.506300    1.521800   1/22/20   \n",
       "4             Angola         Angola -11.202700   17.873900   1/22/20   \n",
       "...              ...            ...        ...         ...       ...   \n",
       "32788       Virginia             US  37.926868  -78.024902  10/25/21   \n",
       "32789     Washington             US  47.751076 -120.740135  10/25/21   \n",
       "32790  West Virginia             US  39.000000  -80.500000  10/25/21   \n",
       "32791      Wisconsin             US  44.500000  -89.500000  10/25/21   \n",
       "32792        Wyoming             US  43.075970 -107.290283  10/25/21   \n",
       "\n",
       "       Confirmed Cases  \n",
       "0                  0.0  \n",
       "1                  0.0  \n",
       "2                  0.0  \n",
       "3                  0.0  \n",
       "4                  0.0  \n",
       "...                ...  \n",
       "32788           3945.0  \n",
       "32789           5804.0  \n",
       "32790            877.0  \n",
       "32791           4513.0  \n",
       "32792            909.0  \n",
       "\n",
       "[206982 rows x 6 columns]"
      ]
     },
     "execution_count": 10,
     "metadata": {},
     "output_type": "execute_result"
    }
   ],
   "source": [
    "finalDf"
   ]
  },
  {
   "cell_type": "markdown",
   "metadata": {},
   "source": [
    "## Save Dataframe"
   ]
  },
  {
   "cell_type": "code",
   "execution_count": 12,
   "metadata": {},
   "outputs": [],
   "source": [
    "finalDf.to_csv(dest, index = False)"
   ]
  },
  {
   "cell_type": "code",
   "execution_count": null,
   "metadata": {},
   "outputs": [],
   "source": []
  }
 ],
 "metadata": {
  "kernelspec": {
   "display_name": "Python 3 (ipykernel)",
   "language": "python",
   "name": "python3"
  },
  "language_info": {
   "codemirror_mode": {
    "name": "ipython",
    "version": 3
   },
   "file_extension": ".py",
   "mimetype": "text/x-python",
   "name": "python",
   "nbconvert_exporter": "python",
   "pygments_lexer": "ipython3",
   "version": "3.8.3"
  }
 },
 "nbformat": 4,
 "nbformat_minor": 2
}
