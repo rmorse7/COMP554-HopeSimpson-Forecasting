{
 "cells": [
  {
   "cell_type": "code",
   "execution_count": 1,
   "metadata": {
    "collapsed": true
   },
   "outputs": [],
   "source": [
    "import numpy as np\n",
    "import pandas as pd"
   ]
  },
  {
   "cell_type": "code",
   "execution_count": 2,
   "outputs": [],
   "source": [
    "INPUT_PATH_1 = \"./Cumulative Tests over Time by County_Legacy.xlsx\"\n",
    "INPUT_PATH_2 = \"./Cumulative Tests over Time by County.xlsx\"\n",
    "OUTPUT_PATH = \"./time_series_covid19_tests_Texas_counties_transformation.csv\""
   ],
   "metadata": {
    "collapsed": false,
    "pycharm": {
     "name": "#%%\n"
    }
   }
  },
  {
   "cell_type": "code",
   "execution_count": 3,
   "outputs": [],
   "source": [
    "aggregated_list  = []\n",
    "for i, input_path in enumerate([INPUT_PATH_1, INPUT_PATH_2]):\n",
    "    df_raw = pd.read_excel(input_path, header=1, nrows=254)\n",
    "\n",
    "    if 0 == i:\n",
    "        df_raw[\"Tests Through May 5*\"].replace(\"--\", np.nan, inplace=True)\n",
    "        df_raw[\"Tests Through May 23\"].replace(\"-\", np.nan, inplace=True)\n",
    "        df_raw[\"Tests Through June 10\"].replace(\"-\", np.nan, inplace=True)\n",
    "        df_raw.rename(columns={\"Tests Through May 5*\": \"Tests Through May 5\"}, inplace=True)\n",
    "        new_column_dict = pd.to_datetime(df_raw.columns[1:].to_series().map(\n",
    "            lambda column: (column[14:] + \", 2020\")\n",
    "        )).dt.strftime('%Y-%m-%d').to_dict()\n",
    "        df_raw.rename(columns=new_column_dict, inplace=True)\n",
    "        col_2020_09_12 = df_raw[\"2020-09-12\"]\n",
    "\n",
    "    if 1 == i:\n",
    "        # Help to calculate 2020-09-13 - 2020-09-12\n",
    "        df_raw.insert(1, \"2020-09-12\", col_2020_09_12)\n",
    "\n",
    "    df_locations = df_raw[[\"County\"]]\n",
    "    df_diff = df_raw.iloc[:, 1:].diff(axis=1).iloc[:, 1:]\n",
    "    aggregated_list.append(pd.concat([df_locations, df_diff], axis = 1).melt(\n",
    "        id_vars=[\"County\"], var_name=\"Date\", value_name=\"Number of Tests\"\n",
    "    ))"
   ],
   "metadata": {
    "collapsed": false,
    "pycharm": {
     "name": "#%%\n"
    }
   }
  },
  {
   "cell_type": "code",
   "execution_count": 4,
   "outputs": [
    {
     "data": {
      "text/plain": "          County        Date  Number of Tests\n0       Anderson  2020-04-22             12.0\n1        Andrews  2020-04-22              0.0\n2       Angelina  2020-04-22             29.0\n3        Aransas  2020-04-22              1.0\n4         Archer  2020-04-22              1.0\n...          ...         ...              ...\n110231      Wood  2021-11-20              4.0\n110232    Yoakum  2021-11-20              1.0\n110233     Young  2021-11-20              1.0\n110234    Zapata  2021-11-20              3.0\n110235    Zavala  2021-11-20              3.0\n\n[146812 rows x 3 columns]",
      "text/html": "<div>\n<style scoped>\n    .dataframe tbody tr th:only-of-type {\n        vertical-align: middle;\n    }\n\n    .dataframe tbody tr th {\n        vertical-align: top;\n    }\n\n    .dataframe thead th {\n        text-align: right;\n    }\n</style>\n<table border=\"1\" class=\"dataframe\">\n  <thead>\n    <tr style=\"text-align: right;\">\n      <th></th>\n      <th>County</th>\n      <th>Date</th>\n      <th>Number of Tests</th>\n    </tr>\n  </thead>\n  <tbody>\n    <tr>\n      <th>0</th>\n      <td>Anderson</td>\n      <td>2020-04-22</td>\n      <td>12.0</td>\n    </tr>\n    <tr>\n      <th>1</th>\n      <td>Andrews</td>\n      <td>2020-04-22</td>\n      <td>0.0</td>\n    </tr>\n    <tr>\n      <th>2</th>\n      <td>Angelina</td>\n      <td>2020-04-22</td>\n      <td>29.0</td>\n    </tr>\n    <tr>\n      <th>3</th>\n      <td>Aransas</td>\n      <td>2020-04-22</td>\n      <td>1.0</td>\n    </tr>\n    <tr>\n      <th>4</th>\n      <td>Archer</td>\n      <td>2020-04-22</td>\n      <td>1.0</td>\n    </tr>\n    <tr>\n      <th>...</th>\n      <td>...</td>\n      <td>...</td>\n      <td>...</td>\n    </tr>\n    <tr>\n      <th>110231</th>\n      <td>Wood</td>\n      <td>2021-11-20</td>\n      <td>4.0</td>\n    </tr>\n    <tr>\n      <th>110232</th>\n      <td>Yoakum</td>\n      <td>2021-11-20</td>\n      <td>1.0</td>\n    </tr>\n    <tr>\n      <th>110233</th>\n      <td>Young</td>\n      <td>2021-11-20</td>\n      <td>1.0</td>\n    </tr>\n    <tr>\n      <th>110234</th>\n      <td>Zapata</td>\n      <td>2021-11-20</td>\n      <td>3.0</td>\n    </tr>\n    <tr>\n      <th>110235</th>\n      <td>Zavala</td>\n      <td>2021-11-20</td>\n      <td>3.0</td>\n    </tr>\n  </tbody>\n</table>\n<p>146812 rows × 3 columns</p>\n</div>"
     },
     "execution_count": 4,
     "metadata": {},
     "output_type": "execute_result"
    }
   ],
   "source": [
    "df_aggregated = pd.concat(aggregated_list, axis=0)\n",
    "df_aggregated"
   ],
   "metadata": {
    "collapsed": false,
    "pycharm": {
     "name": "#%%\n"
    }
   }
  },
  {
   "cell_type": "code",
   "execution_count": 5,
   "outputs": [],
   "source": [
    "df_aggregated.to_csv(OUTPUT_PATH, index=False)\n"
   ],
   "metadata": {
    "collapsed": false,
    "pycharm": {
     "name": "#%%\n"
    }
   }
  }
 ],
 "metadata": {
  "kernelspec": {
   "display_name": "Python 3",
   "language": "python",
   "name": "python3"
  },
  "language_info": {
   "codemirror_mode": {
    "name": "ipython",
    "version": 2
   },
   "file_extension": ".py",
   "mimetype": "text/x-python",
   "name": "python",
   "nbconvert_exporter": "python",
   "pygments_lexer": "ipython2",
   "version": "2.7.6"
  }
 },
 "nbformat": 4,
 "nbformat_minor": 0
}