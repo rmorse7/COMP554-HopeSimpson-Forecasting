{
 "cells": [
  {
   "cell_type": "markdown",
   "metadata": {},
   "source": [
    "# Dataset - US"
   ]
  },
  {
   "cell_type": "code",
   "execution_count": 1,
   "metadata": {},
   "outputs": [],
   "source": [
    "import pandas as pd"
   ]
  },
  {
   "cell_type": "markdown",
   "metadata": {},
   "source": [
    "## Initialize"
   ]
  },
  {
   "cell_type": "code",
   "execution_count": 2,
   "metadata": {
    "scrolled": true
   },
   "outputs": [
    {
     "data": {
      "text/plain": "         UID iso2 iso3  code3    FIPS     Admin2 Province_State  \\\n0   84001001   US  USA    840  1001.0    Autauga        Alabama   \n1   84001003   US  USA    840  1003.0    Baldwin        Alabama   \n2   84001005   US  USA    840  1005.0    Barbour        Alabama   \n3   84001007   US  USA    840  1007.0       Bibb        Alabama   \n4   84001009   US  USA    840  1009.0     Blount        Alabama   \n5   84001011   US  USA    840  1011.0    Bullock        Alabama   \n6   84001013   US  USA    840  1013.0     Butler        Alabama   \n7   84001015   US  USA    840  1015.0    Calhoun        Alabama   \n8   84001017   US  USA    840  1017.0   Chambers        Alabama   \n9   84001019   US  USA    840  1019.0   Cherokee        Alabama   \n10  84001021   US  USA    840  1021.0    Chilton        Alabama   \n11  84001023   US  USA    840  1023.0    Choctaw        Alabama   \n12  84001025   US  USA    840  1025.0     Clarke        Alabama   \n13  84001027   US  USA    840  1027.0       Clay        Alabama   \n14  84001029   US  USA    840  1029.0   Cleburne        Alabama   \n15  84001031   US  USA    840  1031.0     Coffee        Alabama   \n16  84001033   US  USA    840  1033.0    Colbert        Alabama   \n17  84001035   US  USA    840  1035.0    Conecuh        Alabama   \n18  84001037   US  USA    840  1037.0      Coosa        Alabama   \n19  84001039   US  USA    840  1039.0  Covington        Alabama   \n\n   Country_Region        Lat      Long_  ... 11/20/21  11/21/21  11/22/21  \\\n0              US  32.539527 -86.644082  ...    10468     10471     10477   \n1              US  30.727750 -87.722071  ...    37981     37986     38000   \n2              US  31.868263 -85.387129  ...     3683      3687      3688   \n3              US  32.996421 -87.125115  ...     4337      4337      4337   \n4              US  33.982109 -86.567906  ...    10626     10636     10640   \n5              US  32.100305 -85.712655  ...     1527      1527      1527   \n6              US  31.753001 -86.680575  ...     3419      3422      3426   \n7              US  33.774837 -85.826304  ...    22541     22545     22548   \n8              US  32.913601 -85.390727  ...     5774      5774      5774   \n9              US  34.178060 -85.606390  ...     3140      3144      3144   \n10             US  32.850441 -86.717326  ...     6970      6976      6979   \n11             US  32.022273 -88.265644  ...      929       929       930   \n12             US  31.680999 -87.835486  ...     4837      4837      4839   \n13             US  33.269842 -85.858361  ...     2508      2508      2508   \n14             US  33.676792 -85.520059  ...     2535      2539      2540   \n15             US  31.399328 -85.989010  ...     9396      9401      9402   \n16             US  34.698475 -87.801685  ...     9288      9293      9297   \n17             US  31.434017 -86.993200  ...     1923      1923      1924   \n18             US  32.936901 -86.248477  ...     1838      1840      1840   \n19             US  31.247785 -86.450509  ...     6891      6892      6893   \n\n    11/23/21  11/24/21  11/25/21  11/26/21  11/27/21  11/28/21  11/29/21  \n0      10495     10508     10512     10512     10517     10517     10517  \n1      38014     38042     38061     38061     38068     38074     38085  \n2       3690      3691      3691      3691      3694      3694      3695  \n3       4338      4339      4340      4340      4340      4340      4340  \n4      10659     10696     10700     10700     10714     10715     10717  \n5       1527      1525      1525      1525      1526      1526      1526  \n6       3430      3430      3433      3433      3434      3434      3435  \n7      22589     22582     22582     22582     22585     22585     22586  \n8       5778      5778      5778      5778      5783      5784      5784  \n9       3148      3161      3169      3169      3175      3177      3178  \n10      6991      7000      7015      7015      7018      7018      7018  \n11       931       931       932       932       932       932       932  \n12      4842      4845      4849      4849      4849      4849      4849  \n13      2509      2508      2508      2508      2508      2508      2508  \n14      2542      2542      2543      2543      2544      2544      2544  \n15      9411      9412      9412      9412      9414      9415      9417  \n16      9305      9318      9325      9325      9334      9341      9342  \n17      1925      1926      1927      1927      1927      1928      1928  \n18      1841      1843      1846      1846      1849      1850      1850  \n19      6918      6926      6926      6926      6932      6933      6933  \n\n[20 rows x 689 columns]",
      "text/html": "<div>\n<style scoped>\n    .dataframe tbody tr th:only-of-type {\n        vertical-align: middle;\n    }\n\n    .dataframe tbody tr th {\n        vertical-align: top;\n    }\n\n    .dataframe thead th {\n        text-align: right;\n    }\n</style>\n<table border=\"1\" class=\"dataframe\">\n  <thead>\n    <tr style=\"text-align: right;\">\n      <th></th>\n      <th>UID</th>\n      <th>iso2</th>\n      <th>iso3</th>\n      <th>code3</th>\n      <th>FIPS</th>\n      <th>Admin2</th>\n      <th>Province_State</th>\n      <th>Country_Region</th>\n      <th>Lat</th>\n      <th>Long_</th>\n      <th>...</th>\n      <th>11/20/21</th>\n      <th>11/21/21</th>\n      <th>11/22/21</th>\n      <th>11/23/21</th>\n      <th>11/24/21</th>\n      <th>11/25/21</th>\n      <th>11/26/21</th>\n      <th>11/27/21</th>\n      <th>11/28/21</th>\n      <th>11/29/21</th>\n    </tr>\n  </thead>\n  <tbody>\n    <tr>\n      <th>0</th>\n      <td>84001001</td>\n      <td>US</td>\n      <td>USA</td>\n      <td>840</td>\n      <td>1001.0</td>\n      <td>Autauga</td>\n      <td>Alabama</td>\n      <td>US</td>\n      <td>32.539527</td>\n      <td>-86.644082</td>\n      <td>...</td>\n      <td>10468</td>\n      <td>10471</td>\n      <td>10477</td>\n      <td>10495</td>\n      <td>10508</td>\n      <td>10512</td>\n      <td>10512</td>\n      <td>10517</td>\n      <td>10517</td>\n      <td>10517</td>\n    </tr>\n    <tr>\n      <th>1</th>\n      <td>84001003</td>\n      <td>US</td>\n      <td>USA</td>\n      <td>840</td>\n      <td>1003.0</td>\n      <td>Baldwin</td>\n      <td>Alabama</td>\n      <td>US</td>\n      <td>30.727750</td>\n      <td>-87.722071</td>\n      <td>...</td>\n      <td>37981</td>\n      <td>37986</td>\n      <td>38000</td>\n      <td>38014</td>\n      <td>38042</td>\n      <td>38061</td>\n      <td>38061</td>\n      <td>38068</td>\n      <td>38074</td>\n      <td>38085</td>\n    </tr>\n    <tr>\n      <th>2</th>\n      <td>84001005</td>\n      <td>US</td>\n      <td>USA</td>\n      <td>840</td>\n      <td>1005.0</td>\n      <td>Barbour</td>\n      <td>Alabama</td>\n      <td>US</td>\n      <td>31.868263</td>\n      <td>-85.387129</td>\n      <td>...</td>\n      <td>3683</td>\n      <td>3687</td>\n      <td>3688</td>\n      <td>3690</td>\n      <td>3691</td>\n      <td>3691</td>\n      <td>3691</td>\n      <td>3694</td>\n      <td>3694</td>\n      <td>3695</td>\n    </tr>\n    <tr>\n      <th>3</th>\n      <td>84001007</td>\n      <td>US</td>\n      <td>USA</td>\n      <td>840</td>\n      <td>1007.0</td>\n      <td>Bibb</td>\n      <td>Alabama</td>\n      <td>US</td>\n      <td>32.996421</td>\n      <td>-87.125115</td>\n      <td>...</td>\n      <td>4337</td>\n      <td>4337</td>\n      <td>4337</td>\n      <td>4338</td>\n      <td>4339</td>\n      <td>4340</td>\n      <td>4340</td>\n      <td>4340</td>\n      <td>4340</td>\n      <td>4340</td>\n    </tr>\n    <tr>\n      <th>4</th>\n      <td>84001009</td>\n      <td>US</td>\n      <td>USA</td>\n      <td>840</td>\n      <td>1009.0</td>\n      <td>Blount</td>\n      <td>Alabama</td>\n      <td>US</td>\n      <td>33.982109</td>\n      <td>-86.567906</td>\n      <td>...</td>\n      <td>10626</td>\n      <td>10636</td>\n      <td>10640</td>\n      <td>10659</td>\n      <td>10696</td>\n      <td>10700</td>\n      <td>10700</td>\n      <td>10714</td>\n      <td>10715</td>\n      <td>10717</td>\n    </tr>\n    <tr>\n      <th>5</th>\n      <td>84001011</td>\n      <td>US</td>\n      <td>USA</td>\n      <td>840</td>\n      <td>1011.0</td>\n      <td>Bullock</td>\n      <td>Alabama</td>\n      <td>US</td>\n      <td>32.100305</td>\n      <td>-85.712655</td>\n      <td>...</td>\n      <td>1527</td>\n      <td>1527</td>\n      <td>1527</td>\n      <td>1527</td>\n      <td>1525</td>\n      <td>1525</td>\n      <td>1525</td>\n      <td>1526</td>\n      <td>1526</td>\n      <td>1526</td>\n    </tr>\n    <tr>\n      <th>6</th>\n      <td>84001013</td>\n      <td>US</td>\n      <td>USA</td>\n      <td>840</td>\n      <td>1013.0</td>\n      <td>Butler</td>\n      <td>Alabama</td>\n      <td>US</td>\n      <td>31.753001</td>\n      <td>-86.680575</td>\n      <td>...</td>\n      <td>3419</td>\n      <td>3422</td>\n      <td>3426</td>\n      <td>3430</td>\n      <td>3430</td>\n      <td>3433</td>\n      <td>3433</td>\n      <td>3434</td>\n      <td>3434</td>\n      <td>3435</td>\n    </tr>\n    <tr>\n      <th>7</th>\n      <td>84001015</td>\n      <td>US</td>\n      <td>USA</td>\n      <td>840</td>\n      <td>1015.0</td>\n      <td>Calhoun</td>\n      <td>Alabama</td>\n      <td>US</td>\n      <td>33.774837</td>\n      <td>-85.826304</td>\n      <td>...</td>\n      <td>22541</td>\n      <td>22545</td>\n      <td>22548</td>\n      <td>22589</td>\n      <td>22582</td>\n      <td>22582</td>\n      <td>22582</td>\n      <td>22585</td>\n      <td>22585</td>\n      <td>22586</td>\n    </tr>\n    <tr>\n      <th>8</th>\n      <td>84001017</td>\n      <td>US</td>\n      <td>USA</td>\n      <td>840</td>\n      <td>1017.0</td>\n      <td>Chambers</td>\n      <td>Alabama</td>\n      <td>US</td>\n      <td>32.913601</td>\n      <td>-85.390727</td>\n      <td>...</td>\n      <td>5774</td>\n      <td>5774</td>\n      <td>5774</td>\n      <td>5778</td>\n      <td>5778</td>\n      <td>5778</td>\n      <td>5778</td>\n      <td>5783</td>\n      <td>5784</td>\n      <td>5784</td>\n    </tr>\n    <tr>\n      <th>9</th>\n      <td>84001019</td>\n      <td>US</td>\n      <td>USA</td>\n      <td>840</td>\n      <td>1019.0</td>\n      <td>Cherokee</td>\n      <td>Alabama</td>\n      <td>US</td>\n      <td>34.178060</td>\n      <td>-85.606390</td>\n      <td>...</td>\n      <td>3140</td>\n      <td>3144</td>\n      <td>3144</td>\n      <td>3148</td>\n      <td>3161</td>\n      <td>3169</td>\n      <td>3169</td>\n      <td>3175</td>\n      <td>3177</td>\n      <td>3178</td>\n    </tr>\n    <tr>\n      <th>10</th>\n      <td>84001021</td>\n      <td>US</td>\n      <td>USA</td>\n      <td>840</td>\n      <td>1021.0</td>\n      <td>Chilton</td>\n      <td>Alabama</td>\n      <td>US</td>\n      <td>32.850441</td>\n      <td>-86.717326</td>\n      <td>...</td>\n      <td>6970</td>\n      <td>6976</td>\n      <td>6979</td>\n      <td>6991</td>\n      <td>7000</td>\n      <td>7015</td>\n      <td>7015</td>\n      <td>7018</td>\n      <td>7018</td>\n      <td>7018</td>\n    </tr>\n    <tr>\n      <th>11</th>\n      <td>84001023</td>\n      <td>US</td>\n      <td>USA</td>\n      <td>840</td>\n      <td>1023.0</td>\n      <td>Choctaw</td>\n      <td>Alabama</td>\n      <td>US</td>\n      <td>32.022273</td>\n      <td>-88.265644</td>\n      <td>...</td>\n      <td>929</td>\n      <td>929</td>\n      <td>930</td>\n      <td>931</td>\n      <td>931</td>\n      <td>932</td>\n      <td>932</td>\n      <td>932</td>\n      <td>932</td>\n      <td>932</td>\n    </tr>\n    <tr>\n      <th>12</th>\n      <td>84001025</td>\n      <td>US</td>\n      <td>USA</td>\n      <td>840</td>\n      <td>1025.0</td>\n      <td>Clarke</td>\n      <td>Alabama</td>\n      <td>US</td>\n      <td>31.680999</td>\n      <td>-87.835486</td>\n      <td>...</td>\n      <td>4837</td>\n      <td>4837</td>\n      <td>4839</td>\n      <td>4842</td>\n      <td>4845</td>\n      <td>4849</td>\n      <td>4849</td>\n      <td>4849</td>\n      <td>4849</td>\n      <td>4849</td>\n    </tr>\n    <tr>\n      <th>13</th>\n      <td>84001027</td>\n      <td>US</td>\n      <td>USA</td>\n      <td>840</td>\n      <td>1027.0</td>\n      <td>Clay</td>\n      <td>Alabama</td>\n      <td>US</td>\n      <td>33.269842</td>\n      <td>-85.858361</td>\n      <td>...</td>\n      <td>2508</td>\n      <td>2508</td>\n      <td>2508</td>\n      <td>2509</td>\n      <td>2508</td>\n      <td>2508</td>\n      <td>2508</td>\n      <td>2508</td>\n      <td>2508</td>\n      <td>2508</td>\n    </tr>\n    <tr>\n      <th>14</th>\n      <td>84001029</td>\n      <td>US</td>\n      <td>USA</td>\n      <td>840</td>\n      <td>1029.0</td>\n      <td>Cleburne</td>\n      <td>Alabama</td>\n      <td>US</td>\n      <td>33.676792</td>\n      <td>-85.520059</td>\n      <td>...</td>\n      <td>2535</td>\n      <td>2539</td>\n      <td>2540</td>\n      <td>2542</td>\n      <td>2542</td>\n      <td>2543</td>\n      <td>2543</td>\n      <td>2544</td>\n      <td>2544</td>\n      <td>2544</td>\n    </tr>\n    <tr>\n      <th>15</th>\n      <td>84001031</td>\n      <td>US</td>\n      <td>USA</td>\n      <td>840</td>\n      <td>1031.0</td>\n      <td>Coffee</td>\n      <td>Alabama</td>\n      <td>US</td>\n      <td>31.399328</td>\n      <td>-85.989010</td>\n      <td>...</td>\n      <td>9396</td>\n      <td>9401</td>\n      <td>9402</td>\n      <td>9411</td>\n      <td>9412</td>\n      <td>9412</td>\n      <td>9412</td>\n      <td>9414</td>\n      <td>9415</td>\n      <td>9417</td>\n    </tr>\n    <tr>\n      <th>16</th>\n      <td>84001033</td>\n      <td>US</td>\n      <td>USA</td>\n      <td>840</td>\n      <td>1033.0</td>\n      <td>Colbert</td>\n      <td>Alabama</td>\n      <td>US</td>\n      <td>34.698475</td>\n      <td>-87.801685</td>\n      <td>...</td>\n      <td>9288</td>\n      <td>9293</td>\n      <td>9297</td>\n      <td>9305</td>\n      <td>9318</td>\n      <td>9325</td>\n      <td>9325</td>\n      <td>9334</td>\n      <td>9341</td>\n      <td>9342</td>\n    </tr>\n    <tr>\n      <th>17</th>\n      <td>84001035</td>\n      <td>US</td>\n      <td>USA</td>\n      <td>840</td>\n      <td>1035.0</td>\n      <td>Conecuh</td>\n      <td>Alabama</td>\n      <td>US</td>\n      <td>31.434017</td>\n      <td>-86.993200</td>\n      <td>...</td>\n      <td>1923</td>\n      <td>1923</td>\n      <td>1924</td>\n      <td>1925</td>\n      <td>1926</td>\n      <td>1927</td>\n      <td>1927</td>\n      <td>1927</td>\n      <td>1928</td>\n      <td>1928</td>\n    </tr>\n    <tr>\n      <th>18</th>\n      <td>84001037</td>\n      <td>US</td>\n      <td>USA</td>\n      <td>840</td>\n      <td>1037.0</td>\n      <td>Coosa</td>\n      <td>Alabama</td>\n      <td>US</td>\n      <td>32.936901</td>\n      <td>-86.248477</td>\n      <td>...</td>\n      <td>1838</td>\n      <td>1840</td>\n      <td>1840</td>\n      <td>1841</td>\n      <td>1843</td>\n      <td>1846</td>\n      <td>1846</td>\n      <td>1849</td>\n      <td>1850</td>\n      <td>1850</td>\n    </tr>\n    <tr>\n      <th>19</th>\n      <td>84001039</td>\n      <td>US</td>\n      <td>USA</td>\n      <td>840</td>\n      <td>1039.0</td>\n      <td>Covington</td>\n      <td>Alabama</td>\n      <td>US</td>\n      <td>31.247785</td>\n      <td>-86.450509</td>\n      <td>...</td>\n      <td>6891</td>\n      <td>6892</td>\n      <td>6893</td>\n      <td>6918</td>\n      <td>6926</td>\n      <td>6926</td>\n      <td>6926</td>\n      <td>6932</td>\n      <td>6933</td>\n      <td>6933</td>\n    </tr>\n  </tbody>\n</table>\n<p>20 rows × 689 columns</p>\n</div>"
     },
     "execution_count": 2,
     "metadata": {},
     "output_type": "execute_result"
    }
   ],
   "source": [
    "srcUS = \"./time_series_covid19_confirmed_US.csv\"\n",
    "dest = \"./time_series_covid19_confirmed_Texas_counties_transformed.csv\"\n",
    "stateCoordinates = {\n",
    "#     \"Wisconsin\": (44.500000, -89.500000),\n",
    "#     \"West Virginia\": (39.000000, -80.500000),\n",
    "#     \"Vermont\": (44.000000, -72.699997),\n",
    "    \"Texas\": (31.000000, -100.000000),\n",
    "#     \"South Dakota\": (44.500000, -100.000000),\n",
    "#     \"Rhode Island\": (41.700001, -71.500000),\n",
    "#     \"Oregon\": (44.000000, -120.500000),\n",
    "#     \"New York\": (43.000000, -75.000000),\n",
    "#     \"New Hampshire\": (44.000000, -71.500000),\n",
    "#     \"Nebraska\": (41.500000, -100.000000),\n",
    "#     \"Kansas\": (38.500000, -98.000000),\n",
    "#     \"Mississippi\": (33.000000, -90.000000),\n",
    "#     \"Illinois\": (40.000000, -89.000000),\n",
    "#     \"Delaware\": (39.000000, -75.500000),\n",
    "#     \"Connecticut\": (41.599998, -72.699997),\n",
    "#     \"Arkansas\": (34.799999, -92.199997),\n",
    "#     \"Indiana\": (40.273502, -86.126976),\n",
    "#     \"Missouri\": (38.573936, -92.603760),\n",
    "#     \"Florida\": (27.994402, -81.760254),\n",
    "#     \"Nevada\": (39.876019, -117.224121),\n",
    "#     \"Maine\": (45.367584, -68.972168),\n",
    "#     \"Michigan\": (44.182205, -84.506836),\n",
    "#     \"Georgia\": (33.247875, -83.441162),\n",
    "#     \"Hawaii\": (19.741755, -155.844437),\n",
    "#     \"Alaska\": (66.160507, -153.369141),\n",
    "#     \"Tennessee\": (35.860119, -86.660156),\n",
    "#     \"Virginia\": (37.926868, -78.024902),\n",
    "#     \"New Jersey\": (39.833851, -74.871826),\n",
    "#     \"Kentucky\": (37.839333, -84.270020),\n",
    "#     \"North Dakota\": (47.650589, -100.437012),\n",
    "#     \"Minnesota\": (46.392410, -94.636230),\n",
    "#     \"Oklahoma\": (36.084621, -96.921387),\n",
    "#     \"Montana\": (46.965260, -109.533691),\n",
    "#     \"Washington\": (47.751076, -120.740135),\n",
    "#     \"Utah\": (39.419220, -111.950684),\n",
    "#     \"Colorado\": (39.113014, -105.358887),\n",
    "#     \"Ohio\": (40.367474, -82.996216),\n",
    "#     \"Alabama\": (32.318230, -86.902298),\n",
    "#     \"Iowa\": (42.032974, -93.581543),\n",
    "#     \"New Mexico\": (34.307144, -106.018066),\n",
    "#     \"South Carolina\": (33.836082, -81.163727),\n",
    "#     \"Pennsylvania\": (41.203323, -77.194527),\n",
    "#     \"Arizona\": (34.048927, -111.093735),\n",
    "#     \"Maryland\": (39.045753, -76.641273),\n",
    "#     \"Massachusetts\": (42.407211, -71.382439),\n",
    "#     \"California\": (36.778259, -119.417931),\n",
    "#     \"Idaho\": (44.068203, -114.742043),\n",
    "#     \"Wyoming\": (43.075970, -107.290283),\n",
    "#     \"North Carolina\": (35.782169, -80.793457),\n",
    "#     \"Louisiana\": (30.391830, -92.329102),\n",
    "#     \"Harris, Texas\": (29.7752, -95.3103)\n",
    "}\n",
    "\n",
    "# Read data\n",
    "usDf = pd.read_csv(srcUS)\n",
    "usDf.head(20)"
   ]
  },
  {
   "cell_type": "markdown",
   "metadata": {},
   "source": [
    "## Data Manipulation"
   ]
  },
  {
   "cell_type": "code",
   "execution_count": 3,
   "metadata": {
    "tags": []
   },
   "outputs": [],
   "source": [
    "# # Separate Harris from Texas\n",
    "# harrisIndex = usDf[(usDf[\"Admin2\"] == \"Harris\") & (usDf[\"Province_State\"] == \"Texas\")].index\n",
    "# usDf.at[harrisIndex, \"Province_State\"] = usDf.iloc[harrisIndex, :][\"Admin2\"] + \", \" + usDf.iloc[harrisIndex, :][\"Province_State\"]\n",
    "\n",
    "# Drop unwanted columns\n",
    "droppedCols = [0, 1, 2, 3, 10]\n",
    "usDf = usDf.iloc[:, [col for col in range(len(usDf.columns)) if col not in droppedCols]]\n",
    "\n",
    "# Drop rows with Admin2 of \"Unassigned\", \"Out of XXX\" or NaN\n",
    "usDf = usDf[(usDf[\"Admin2\"] != \"Unassigned\") & ~(usDf[\"Admin2\"].str.startswith(\"Out of\", na=True))]\n",
    "\n",
    "# Rename columns (inplace)\n",
    "usDf.rename(columns = {\n",
    "    \"Long_\": \"Long\"\n",
    "}, inplace = True)\n",
    "\n",
    "# # Group separately and combine\n",
    "# #   - 1. Group Lat and Long (aggregated by taking first)\n",
    "# #   - 2. Group Confirmed Cases (aggregated by taking sum)\n",
    "# firstHalf = usDf.iloc[:, :4].groupby([\"Province_State\", \"Country_Region\"]).first().reset_index()\n",
    "# secondHalf = usDf.drop(usDf.columns[[2, 3]], axis = 1).groupby([\"Province_State\", \"Country_Region\"]).sum().reset_index()\n",
    "# usDf = pd.concat([firstHalf, secondHalf.iloc[:, 2:]], axis = 1)\n",
    "\n",
    "# Drop regions that are not in dictionary (stateCoordinates)\n",
    "usDf = usDf[usDf[\"Province_State\"].isin(stateCoordinates)]\n",
    "\n",
    "# # Update \"Lat\" and \"Long\"\n",
    "# for index, row in usDf.iterrows():\n",
    "#     if row[\"Province_State\"] in stateCoordinates:\n",
    "#         usDf.at[index, \"Lat\"] = stateCoordinates[row[\"Province_State\"]][0]\n",
    "#         usDf.at[index, \"Long\"] = stateCoordinates[row[\"Province_State\"]][1]\n",
    "        \n",
    "# Derive confirmed cases per day and attach back to the source dataframe\n",
    "locationsDf = usDf.iloc[:, :6]\n",
    "datesDf = usDf.iloc[:, 6:].diff(axis = 1)\n",
    "diffDf = pd.concat([locationsDf, datesDf], axis = 1)\n",
    "\n",
    "# Transform spreading \"date & confirmed cases\" data into \"Date\" adn \"Confirmed Cases\"\n",
    "usDf = diffDf.melt(\n",
    "    id_vars = [\"FIPS\", \"Admin2\", \"Province_State\", \"Country_Region\", \"Lat\", \"Long\"],\n",
    "    var_name = \"Date\",\n",
    "    value_name = \"Confirmed Cases\")\n",
    "usDf.rename(columns={\"Admin2\": \"County\"}, inplace=True)"
   ]
  },
  {
   "cell_type": "code",
   "execution_count": 4,
   "metadata": {},
   "outputs": [
    {
     "data": {
      "text/plain": "           FIPS    County Province_State Country_Region        Lat  \\\n0       48001.0  Anderson          Texas             US  31.815347   \n1       48003.0   Andrews          Texas             US  32.304686   \n2       48005.0  Angelina          Texas             US  31.254573   \n3       48007.0   Aransas          Texas             US  28.105562   \n4       48009.0    Archer          Texas             US  33.615700   \n...         ...       ...            ...            ...        ...   \n172207  48499.0      Wood          Texas             US  32.787224   \n172208  48501.0    Yoakum          Texas             US  33.173202   \n172209  48503.0     Young          Texas             US  33.176597   \n172210  48505.0    Zapata          Texas             US  27.001564   \n172211  48507.0    Zavala          Texas             US  28.866172   \n\n              Long      Date  Confirmed Cases  \n0       -95.653548   1/22/20              NaN  \n1      -102.637655   1/22/20              NaN  \n2       -94.609015   1/22/20              NaN  \n3       -96.999505   1/22/20              NaN  \n4       -98.687546   1/22/20              NaN  \n...            ...       ...              ...  \n172207  -95.382364  11/29/21             17.0  \n172208 -102.827643  11/29/21             10.0  \n172209  -98.687909  11/29/21              1.0  \n172210  -99.169872  11/29/21              1.0  \n172211  -99.760508  11/29/21              0.0  \n\n[172212 rows x 8 columns]",
      "text/html": "<div>\n<style scoped>\n    .dataframe tbody tr th:only-of-type {\n        vertical-align: middle;\n    }\n\n    .dataframe tbody tr th {\n        vertical-align: top;\n    }\n\n    .dataframe thead th {\n        text-align: right;\n    }\n</style>\n<table border=\"1\" class=\"dataframe\">\n  <thead>\n    <tr style=\"text-align: right;\">\n      <th></th>\n      <th>FIPS</th>\n      <th>County</th>\n      <th>Province_State</th>\n      <th>Country_Region</th>\n      <th>Lat</th>\n      <th>Long</th>\n      <th>Date</th>\n      <th>Confirmed Cases</th>\n    </tr>\n  </thead>\n  <tbody>\n    <tr>\n      <th>0</th>\n      <td>48001.0</td>\n      <td>Anderson</td>\n      <td>Texas</td>\n      <td>US</td>\n      <td>31.815347</td>\n      <td>-95.653548</td>\n      <td>1/22/20</td>\n      <td>NaN</td>\n    </tr>\n    <tr>\n      <th>1</th>\n      <td>48003.0</td>\n      <td>Andrews</td>\n      <td>Texas</td>\n      <td>US</td>\n      <td>32.304686</td>\n      <td>-102.637655</td>\n      <td>1/22/20</td>\n      <td>NaN</td>\n    </tr>\n    <tr>\n      <th>2</th>\n      <td>48005.0</td>\n      <td>Angelina</td>\n      <td>Texas</td>\n      <td>US</td>\n      <td>31.254573</td>\n      <td>-94.609015</td>\n      <td>1/22/20</td>\n      <td>NaN</td>\n    </tr>\n    <tr>\n      <th>3</th>\n      <td>48007.0</td>\n      <td>Aransas</td>\n      <td>Texas</td>\n      <td>US</td>\n      <td>28.105562</td>\n      <td>-96.999505</td>\n      <td>1/22/20</td>\n      <td>NaN</td>\n    </tr>\n    <tr>\n      <th>4</th>\n      <td>48009.0</td>\n      <td>Archer</td>\n      <td>Texas</td>\n      <td>US</td>\n      <td>33.615700</td>\n      <td>-98.687546</td>\n      <td>1/22/20</td>\n      <td>NaN</td>\n    </tr>\n    <tr>\n      <th>...</th>\n      <td>...</td>\n      <td>...</td>\n      <td>...</td>\n      <td>...</td>\n      <td>...</td>\n      <td>...</td>\n      <td>...</td>\n      <td>...</td>\n    </tr>\n    <tr>\n      <th>172207</th>\n      <td>48499.0</td>\n      <td>Wood</td>\n      <td>Texas</td>\n      <td>US</td>\n      <td>32.787224</td>\n      <td>-95.382364</td>\n      <td>11/29/21</td>\n      <td>17.0</td>\n    </tr>\n    <tr>\n      <th>172208</th>\n      <td>48501.0</td>\n      <td>Yoakum</td>\n      <td>Texas</td>\n      <td>US</td>\n      <td>33.173202</td>\n      <td>-102.827643</td>\n      <td>11/29/21</td>\n      <td>10.0</td>\n    </tr>\n    <tr>\n      <th>172209</th>\n      <td>48503.0</td>\n      <td>Young</td>\n      <td>Texas</td>\n      <td>US</td>\n      <td>33.176597</td>\n      <td>-98.687909</td>\n      <td>11/29/21</td>\n      <td>1.0</td>\n    </tr>\n    <tr>\n      <th>172210</th>\n      <td>48505.0</td>\n      <td>Zapata</td>\n      <td>Texas</td>\n      <td>US</td>\n      <td>27.001564</td>\n      <td>-99.169872</td>\n      <td>11/29/21</td>\n      <td>1.0</td>\n    </tr>\n    <tr>\n      <th>172211</th>\n      <td>48507.0</td>\n      <td>Zavala</td>\n      <td>Texas</td>\n      <td>US</td>\n      <td>28.866172</td>\n      <td>-99.760508</td>\n      <td>11/29/21</td>\n      <td>0.0</td>\n    </tr>\n  </tbody>\n</table>\n<p>172212 rows × 8 columns</p>\n</div>"
     },
     "execution_count": 4,
     "metadata": {},
     "output_type": "execute_result"
    }
   ],
   "source": [
    "usDf"
   ]
  },
  {
   "cell_type": "code",
   "execution_count": 5,
   "metadata": {},
   "outputs": [],
   "source": [
    "# Save transformed dataset\n",
    "usDf.to_csv(dest, index = False)"
   ]
  }
 ],
 "metadata": {
  "kernelspec": {
   "display_name": "Python 3 (ipykernel)",
   "language": "python",
   "name": "python3"
  },
  "language_info": {
   "codemirror_mode": {
    "name": "ipython",
    "version": 3
   },
   "file_extension": ".py",
   "mimetype": "text/x-python",
   "name": "python",
   "nbconvert_exporter": "python",
   "pygments_lexer": "ipython3",
   "version": "3.8.2"
  }
 },
 "nbformat": 4,
 "nbformat_minor": 4
}