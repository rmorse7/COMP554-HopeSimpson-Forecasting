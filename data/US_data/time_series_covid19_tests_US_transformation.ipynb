{
 "cells": [
  {
   "cell_type": "code",
   "execution_count": 1,
   "outputs": [],
   "source": [
    "import os\n",
    "import pandas as pd"
   ],
   "metadata": {
    "collapsed": false,
    "pycharm": {
     "name": "#%%\n"
    }
   }
  },
  {
   "cell_type": "code",
   "execution_count": 2,
   "outputs": [],
   "source": [
    "data_dir = \"./csse_covid_19_daily_reports_us\"\n",
    "output_file_path = \"./time_series_covid19_tests_US_transformation.csv\""
   ],
   "metadata": {
    "collapsed": false,
    "pycharm": {
     "name": "#%%\n"
    }
   }
  },
  {
   "cell_type": "code",
   "execution_count": 3,
   "outputs": [
    {
     "data": {
      "text/plain": "       Province_State Country_Region      Lat      Long        Date  \\\n0             Alabama             US  32.3182  -86.9023  04-13-2020   \n1              Alaska             US  61.3707 -152.4044  04-13-2020   \n2      American Samoa             US -14.2710 -170.1320  04-13-2020   \n3             Arizona             US  33.7298 -111.4312  04-13-2020   \n4            Arkansas             US  34.9697  -92.3731  04-13-2020   \n...               ...            ...      ...       ...         ...   \n32363        Virginia             US  37.7693  -78.1700  11-11-2021   \n32364      Washington             US  47.4009 -121.4905  11-11-2021   \n32365   West Virginia             US  38.4912  -80.9545  11-11-2021   \n32366       Wisconsin             US  44.2685  -89.6165  11-11-2021   \n32367         Wyoming             US  42.7560 -107.3025  11-11-2021   \n\n      Number of Tests  \n0                2607  \n1                -208  \n2                   0  \n3                 898  \n4                1082  \n...               ...  \n32363           16609  \n32364               0  \n32365           15610  \n32366               0  \n32367            4299  \n\n[32368 rows x 6 columns]",
      "text/html": "<div>\n<style scoped>\n    .dataframe tbody tr th:only-of-type {\n        vertical-align: middle;\n    }\n\n    .dataframe tbody tr th {\n        vertical-align: top;\n    }\n\n    .dataframe thead th {\n        text-align: right;\n    }\n</style>\n<table border=\"1\" class=\"dataframe\">\n  <thead>\n    <tr style=\"text-align: right;\">\n      <th></th>\n      <th>Province_State</th>\n      <th>Country_Region</th>\n      <th>Lat</th>\n      <th>Long</th>\n      <th>Date</th>\n      <th>Number of Tests</th>\n    </tr>\n  </thead>\n  <tbody>\n    <tr>\n      <th>0</th>\n      <td>Alabama</td>\n      <td>US</td>\n      <td>32.3182</td>\n      <td>-86.9023</td>\n      <td>04-13-2020</td>\n      <td>2607</td>\n    </tr>\n    <tr>\n      <th>1</th>\n      <td>Alaska</td>\n      <td>US</td>\n      <td>61.3707</td>\n      <td>-152.4044</td>\n      <td>04-13-2020</td>\n      <td>-208</td>\n    </tr>\n    <tr>\n      <th>2</th>\n      <td>American Samoa</td>\n      <td>US</td>\n      <td>-14.2710</td>\n      <td>-170.1320</td>\n      <td>04-13-2020</td>\n      <td>0</td>\n    </tr>\n    <tr>\n      <th>3</th>\n      <td>Arizona</td>\n      <td>US</td>\n      <td>33.7298</td>\n      <td>-111.4312</td>\n      <td>04-13-2020</td>\n      <td>898</td>\n    </tr>\n    <tr>\n      <th>4</th>\n      <td>Arkansas</td>\n      <td>US</td>\n      <td>34.9697</td>\n      <td>-92.3731</td>\n      <td>04-13-2020</td>\n      <td>1082</td>\n    </tr>\n    <tr>\n      <th>...</th>\n      <td>...</td>\n      <td>...</td>\n      <td>...</td>\n      <td>...</td>\n      <td>...</td>\n      <td>...</td>\n    </tr>\n    <tr>\n      <th>32363</th>\n      <td>Virginia</td>\n      <td>US</td>\n      <td>37.7693</td>\n      <td>-78.1700</td>\n      <td>11-11-2021</td>\n      <td>16609</td>\n    </tr>\n    <tr>\n      <th>32364</th>\n      <td>Washington</td>\n      <td>US</td>\n      <td>47.4009</td>\n      <td>-121.4905</td>\n      <td>11-11-2021</td>\n      <td>0</td>\n    </tr>\n    <tr>\n      <th>32365</th>\n      <td>West Virginia</td>\n      <td>US</td>\n      <td>38.4912</td>\n      <td>-80.9545</td>\n      <td>11-11-2021</td>\n      <td>15610</td>\n    </tr>\n    <tr>\n      <th>32366</th>\n      <td>Wisconsin</td>\n      <td>US</td>\n      <td>44.2685</td>\n      <td>-89.6165</td>\n      <td>11-11-2021</td>\n      <td>0</td>\n    </tr>\n    <tr>\n      <th>32367</th>\n      <td>Wyoming</td>\n      <td>US</td>\n      <td>42.7560</td>\n      <td>-107.3025</td>\n      <td>11-11-2021</td>\n      <td>4299</td>\n    </tr>\n  </tbody>\n</table>\n<p>32368 rows × 6 columns</p>\n</div>"
     },
     "execution_count": 3,
     "metadata": {},
     "output_type": "execute_result"
    }
   ],
   "source": [
    "file_names = sorted(\n",
    "    filter(lambda x: x.split(\".\")[-1] == \"csv\", os.listdir(data_dir)),\n",
    "    key=lambda x: x[6:10] + x[:2] + x[3:5]\n",
    ")\n",
    "aggregated_list = []\n",
    "last_num_tests = []\n",
    "header = [\"Province_State\", \"Country_Region\", \"Lat\", \"Long\", \"Date\", \"Number of Tests\"]\n",
    "for i, file_name in enumerate(file_names):\n",
    "    df_daily = pd.read_csv(os.path.join(data_dir, file_name))\n",
    "\n",
    "    # filter Province_State == \"Diamond Princess\" or \"Grand Princess\" or \"Recovered\"\n",
    "    df_daily = df_daily[df_daily[\"Lat\"].notna()]\n",
    "\n",
    "    # align row order\n",
    "    df_daily.sort_values(by=\"Province_State\", inplace=True)\n",
    "\n",
    "    assert \"Total_Test_Results\" in df_daily.columns or \"People_Tested\" in df_daily.columns\n",
    "    for field in [\"Total_Test_Results\", \"People_Tested\"]:\n",
    "        if field in df_daily.columns:\n",
    "            if i > 0:\n",
    "                df_daily[\"Number of Tests\"] = (df_daily[field] - last_num_tests).astype(\"Int64\")  # Int64 can handle nan\n",
    "            last_num_tests = df_daily[field].values\n",
    "            break\n",
    "\n",
    "    # skip the first day (04-12-2020)\n",
    "    if 0 == i:\n",
    "        continue\n",
    "    df_daily[\"Long\"] = df_daily[\"Long_\"]\n",
    "    df_daily[\"Date\"] = [file_name.split(\".\")[0]] * df_daily.shape[0]\n",
    "    aggregated_list += df_daily[header].values.tolist()\n",
    "\n",
    "df_aggregated = pd.DataFrame(aggregated_list, columns=header)\n",
    "df_aggregated"
   ],
   "metadata": {
    "collapsed": false,
    "pycharm": {
     "name": "#%%\n"
    }
   }
  },
  {
   "cell_type": "code",
   "execution_count": 4,
   "outputs": [],
   "source": [
    "df_aggregated.to_csv(output_file_path, index=False)"
   ],
   "metadata": {
    "collapsed": false,
    "pycharm": {
     "name": "#%%\n"
    }
   }
  }
 ],
 "metadata": {
  "kernelspec": {
   "display_name": "Python 3 (ipykernel)",
   "language": "python",
   "name": "python3"
  },
  "language_info": {
   "codemirror_mode": {
    "name": "ipython",
    "version": 3
   },
   "file_extension": ".py",
   "mimetype": "text/x-python",
   "name": "python",
   "nbconvert_exporter": "python",
   "pygments_lexer": "ipython3",
   "version": "3.8.3"
  }
 },
 "nbformat": 4,
 "nbformat_minor": 2
}